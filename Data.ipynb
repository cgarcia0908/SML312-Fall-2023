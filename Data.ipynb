{
 "cells": [
  {
   "cell_type": "code",
   "execution_count": 7,
   "metadata": {},
   "outputs": [],
   "source": [
    "import requests\n",
    "\n",
    "# Assume the API provides a 'next' field in its response for pagination\n",
    "for year in range(2017,2024):\n",
    "    # Define the API key and the endpoint URL\n",
    "    api_key = 'ba458d459a1d477bc4d44df8a322'\n",
    "    url = f'https://feeds.datagolf.com/historical-raw-data/rounds?tour=pga&event_id=all&year={year}&file_format=csv&key={api_key}'\n",
    "\n",
    "    # Send a GET request to the API endpoint\n",
    "    response = requests.get(url, headers={'Authorization': f'Bearer {api_key}'})\n",
    "\n",
    "    # Raise an exception if the request was unsuccessful\n",
    "    response.raise_for_status()\n",
    "\n",
    "    # Save the response text to a text file\n",
    "    with open(f'{year}.csv', 'w') as file:\n",
    "        file.write(response.text)"
   ]
  }
 ],
 "metadata": {
  "kernelspec": {
   "display_name": "base",
   "language": "python",
   "name": "python3"
  },
  "language_info": {
   "codemirror_mode": {
    "name": "ipython",
    "version": 3
   },
   "file_extension": ".py",
   "mimetype": "text/x-python",
   "name": "python",
   "nbconvert_exporter": "python",
   "pygments_lexer": "ipython3",
   "version": "3.11.0"
  }
 },
 "nbformat": 4,
 "nbformat_minor": 2
}
